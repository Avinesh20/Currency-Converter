{
 "cells": [
  {
   "cell_type": "markdown",
   "id": "5bf868fc",
   "metadata": {},
   "source": [
    "# Python Mini Project :\n",
    "\n",
    "###### In this project we are going to make currency converter using User Interface with the help of API . "
   ]
  },
  {
   "cell_type": "markdown",
   "id": "81ae4d0b",
   "metadata": {},
   "source": [
    "##  Currency Converter"
   ]
  },
  {
   "cell_type": "markdown",
   "id": "dd90d7c9",
   "metadata": {},
   "source": [
    "### In this project I have used 3 modules\n",
    "\n",
    "    1.Tkinter for user interface(UI)\n",
    "    2.request for API\n",
    "    3.re - for checking the character"
   ]
  },
  {
   "cell_type": "markdown",
   "id": "a81ff21f",
   "metadata": {},
   "source": [
    "#### Importing required libraries "
   ]
  },
  {
   "cell_type": "code",
   "execution_count": 1,
   "id": "ceb079ae",
   "metadata": {},
   "outputs": [],
   "source": [
    "import requests\n",
    "from tkinter import *    #Tkinter is a Python package which comes with many functions that can be used to create an application\n",
    "import tkinter as tk\n",
    "from tkinter import ttk\n",
    "from tkinter import messagebox\n",
    "import re\n"
   ]
  },
  {
   "cell_type": "markdown",
   "id": "4f4686e4",
   "metadata": {},
   "source": [
    "#### The Creation of Currency Converter  Class"
   ]
  },
  {
   "cell_type": "code",
   "execution_count": 2,
   "id": "13420a34",
   "metadata": {},
   "outputs": [],
   "source": [
    "#it will convert the concerned currency as well as return the amount that has been converted\n",
    "class CurrencyConverter():\n",
    "   \n",
    "    def __init__(self,url):      \n",
    " #__init__ :This method is called when an object is created from a class and it allowsclass to initialize the attributes of the class. \n",
    " #self : It is used to represent the instance of a class\n",
    "            self.data = requests.get(url).json()\n",
    "            self.currencies = self.data['rates']\n",
    "            #requests.get(URL),the page is loaded in the Python Program.\n",
    "            #After that,JSON Format converts the page to JSON File then it is stored in the data variable.        \n",
    "            \n",
    "\n",
    "#conversion method           \n",
    "    def convert(self, from_currency, to_currency, amount): \n",
    "#         initial_amount = amount \n",
    "        if from_currency != 'USD' :     # converting it into USD if it is not in USD.\n",
    "            amount = amount / self.currencies[from_currency] \n",
    "\n",
    "\n",
    "        amount = round(amount * self.currencies[to_currency], 5) # limiting the precision to 5 decimal places \n",
    "        return amount\n",
    "    \n",
    "   #from_currency, from the currency one, wants to convert\n",
    "   #to_currency, in the currency one wants to convert\n",
    "   #Amount refers to the amount intended for conversion and it will return from the converted Amount "
   ]
  },
  {
   "cell_type": "markdown",
   "id": "bb338b52",
   "metadata": {},
   "source": [
    "#### The Currency Converter User Interface"
   ]
  },
  {
   "cell_type": "code",
   "execution_count": 3,
   "id": "5d14b2bb",
   "metadata": {},
   "outputs": [],
   "source": [
    "class App(tk.Tk):                  \n",
    "    def __init__(self, converter):   #Here we are going to develop the currency converter UI.   \n",
    "        \n",
    "      \n",
    "        \n",
    "        tk.Tk.__init__(self)\n",
    "        self.title = 'Currency Converter'    #title() method – This gives a title to the python currency converter window.     \n",
    "        self.config(bg = 'light grey')\n",
    "        self.currency_converter = converter\n",
    "        \n",
    "        #Format of creating converter    \n",
    "        self.geometry(\"550x250\")        #geometry() method – This sets the initial dimensions to the window\n",
    "        self.resizable(0,0)\n",
    "        \n",
    "        # Creating heading for the window\n",
    "        \n",
    "        self.intro_label = Label(self, text = 'Welcome to Currency Convertor',  fg = 'royalblue', relief = tk.FLAT, borderwidth=5)\n",
    "        self.intro_label.place(relx=0.5, rely=0.1,anchor = 'center')\n",
    "        self.intro_label.config(font = ('Arial',20,'bold'))\n",
    "        \n",
    "\n",
    "        self.date_label = Label(self, text = f\"1 Indian Rupee equals(₹) = {self.currency_converter.convert('INR','USD',1)} USD($) \\n Date : {self.currency_converter.data['date']}\", relief = tk.RIDGE, borderwidth = 5)\n",
    "        self.date_label.config(font = ('Arial',8,'italic'))\n",
    "        self.intro_label.place(x = 10 , y = 5)\n",
    "        self.date_label.place(x = 170, y= 70)\n",
    "        \n",
    "#Entry box that will entail amount and currency options.It allows enter the amount and choosing among the various available currencies\n",
    "        \n",
    "        valid = (self.register(self.restrictNumberOnly), '%d', '%P')       \n",
    "        self.amount_field = Entry(self,bd = 4, relief = tk.GROOVE, justify = tk.CENTER,validate='key', validatecommand=valid)\n",
    "        self.converted_amount_field_label = Label(self, text = '', fg = 'black', bg = 'white', relief = tk.GROOVE, justify = tk.CENTER, width = 17, borderwidth = 3)\n",
    "\n",
    "        # dropdown\n",
    "        self.from_currency_variable = StringVar(self)\n",
    "        self.from_currency_variable.set(\"INR\")                         # default value\n",
    "        self.to_currency_variable = StringVar(self)\n",
    "        self.to_currency_variable.set(\"USD\")                           # default value\n",
    "\n",
    "        font = (\"Georgia\", 12, \"bold\")\n",
    "        self.option_add('*TCombobox*Listbox.font', font)        #popdown the list\n",
    "        \n",
    "        #Combobox acts as a combination of the classic OptionMenu\n",
    "        self.from_currency_dropdown = ttk.Combobox(self, textvariable=self.from_currency_variable,values=list(self.currency_converter.currencies.keys()), font = font, state = 'readonly', width = 12, justify = tk.CENTER)\n",
    "        self.to_currency_dropdown = ttk.Combobox(self, textvariable=self.to_currency_variable,values=list(self.currency_converter.currencies.keys()), font = font, state = 'readonly', width = 12, justify = tk.CENTER)\n",
    "\n",
    "        # placing\n",
    "        self.from_currency_dropdown.place(x = 40, y= 130)\n",
    "        self.amount_field.place(x = 46, y = 160)\n",
    "        self.to_currency_dropdown.place(x = 350, y= 130)\n",
    "        self.converted_amount_field_label.place(x = 356, y = 160)\n",
    "        \n",
    " # Time to create convert button that will trigger the performance function, Once the command is clicked, it self-performs.\n",
    "        self.convert_button = Button(self, text = \"Convert\", fg = \"black\",bg =\"Green\", command = self.perform) \n",
    "        self.convert_button.config(font=('Courier', 13, 'bold'))\n",
    "        self.convert_button.place(x = 220, y = 140)\n",
    "        \n",
    " #Perfroming Method accepts the input converting the available amount to the desired currency that is displayed in the Entry box of the converted amount.    \n",
    "    def perform(self):\n",
    "        amount = float(self.amount_field.get())\n",
    "        from_curr = self.from_currency_variable.get()\n",
    "        to_curr = self.to_currency_variable.get()\n",
    "\n",
    "        converted_amount = self.currency_converter.convert(from_curr,to_curr,amount)\n",
    "        converted_amount = round(converted_amount, 5)\n",
    "\n",
    "        self.converted_amount_field_label.config(text = str(converted_amount))\n",
    " \n",
    " #restricting number only()    \n",
    "\n",
    "    def restrictNumberOnly(self, action, string):    #It allows for entering a Number only by the user in the created amount field.\n",
    "        regex = re.compile(r\"[0-9,]*?(\\.)?[0-9,]*$\")\n",
    "        result = regex.match(string)\n",
    "        return (string == \"\" or (string.count('.') <= 1 and result is not None))"
   ]
  },
  {
   "cell_type": "markdown",
   "id": "c2104770",
   "metadata": {},
   "source": [
    "#### Creating Main Function"
   ]
  },
  {
   "cell_type": "code",
   "execution_count": null,
   "id": "c082ee16",
   "metadata": {},
   "outputs": [],
   "source": [
    "if __name__ == '__main__':\n",
    "    url = 'https://api.exchangerate-api.com/v4/latest/USD'\n",
    "    converter = CurrencyConverter(url) \n",
    "    print(converter.convert('INR','USD',1))  #here output showing the conversion of Indian ruppes to USD.\n",
    "    App(converter)\n",
    "    mainloop()\n"
   ]
  },
  {
   "cell_type": "code",
   "execution_count": null,
   "id": "886df9de",
   "metadata": {},
   "outputs": [],
   "source": []
  }
 ],
 "metadata": {
  "kernelspec": {
   "display_name": "Python 3 (ipykernel)",
   "language": "python",
   "name": "python3"
  },
  "language_info": {
   "codemirror_mode": {
    "name": "ipython",
    "version": 3
   },
   "file_extension": ".py",
   "mimetype": "text/x-python",
   "name": "python",
   "nbconvert_exporter": "python",
   "pygments_lexer": "ipython3",
   "version": "3.9.7"
  }
 },
 "nbformat": 4,
 "nbformat_minor": 5
}
